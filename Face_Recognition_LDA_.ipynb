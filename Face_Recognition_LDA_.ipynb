{
  "nbformat": 4,
  "nbformat_minor": 0,
  "metadata": {
    "orig_nbformat": 2,
    "file_extension": ".py",
    "mimetype": "text/x-python",
    "name": "python",
    "npconvert_exporter": "python",
    "pygments_lexer": "ipython3",
    "version": 3,
    "colab": {
      "name": "Face-Recognition-LDA .ipynb",
      "provenance": []
    },
    "kernelspec": {
      "name": "python3",
      "display_name": "Python 3"
    },
    "accelerator": "GPU"
  },
  "cells": [
    {
      "cell_type": "markdown",
      "metadata": {
        "id": "0h7RsOnq-W33",
        "colab_type": "text"
      },
      "source": [
        "# Important Libraries For The Assignment\n"
      ]
    },
    {
      "cell_type": "code",
      "metadata": {
        "id": "6MOCkiyy-W39",
        "colab_type": "code",
        "colab": {}
      },
      "source": [
        "import cv2\n",
        "import os\n",
        "import glob\n",
        "import numpy as np\n",
        "import pandas as pd\n",
        "from sklearn.neighbors import KNeighborsClassifier\n",
        "from sklearn.metrics import accuracy_score\n",
        "import matplotlib.pyplot as plt"
      ],
      "execution_count": 0,
      "outputs": []
    },
    {
      "cell_type": "markdown",
      "metadata": {
        "id": "g24Ypvz--W4J",
        "colab_type": "text"
      },
      "source": [
        "# A.The dataset has 10 images per 40 subjects. Every image is a grayscale image of  size 92x112.(10 Points) \n",
        " \n"
      ]
    },
    {
      "cell_type": "code",
      "metadata": {
        "id": "2sPI0r-Q-W4M",
        "colab_type": "code",
        "colab": {
          "base_uri": "https://localhost:8080/",
          "height": 69
        },
        "outputId": "b4f6f901-c89f-49b0-be55-775e85f6d912"
      },
      "source": [
        "!unzip ATT.zip\n",
        "\n",
        "img_dir = \"./ATT\"  # Enter Directory of all images\n",
        "data_path = os.path.join(img_dir, '*g')\n",
        "files = glob.glob(data_path)\n",
        "data = []\n",
        "i=0\n",
        "for f1 in files:\n",
        "    i=i+1\n",
        "    img = cv2.imread(f1)\n",
        "    dim=(92,112)\n",
        "    resized = cv2.resize(img, dim, interpolation = cv2.INTER_AREA)\n",
        "    gray = cv2.cvtColor(resized, cv2.COLOR_BGR2GRAY)\n",
        "    data.append(gray)\n",
        "    mydata = np.array(data)\n",
        "    # print(\"Image : \\n\",mydata)\n",
        "##fixing shape->400*10304\n",
        "d=np.reshape(mydata, (400, 10304))\n",
        "print(\"Shape od D matrix :\",d.shape)"
      ],
      "execution_count": 56,
      "outputs": [
        {
          "output_type": "stream",
          "text": [
            "Archive:  ATT.zip\n",
            "replace ATT/10_1.png? [y]es, [n]o, [A]ll, [N]one, [r]ename: N\n",
            "Shape od D matrix : (400, 10304)\n"
          ],
          "name": "stdout"
        }
      ]
    },
    {
      "cell_type": "markdown",
      "metadata": {
        "id": "FG2td91B-W4V",
        "colab_type": "text"
      },
      "source": [
        "# Preparing the Labels Of the Data Stack the 400 vector into a single Data Matrix D and generate the label vector y.The labels are integers from 1:40 corresponding to the subject id."
      ]
    },
    {
      "cell_type": "code",
      "metadata": {
        "id": "MltCOMOJ-W4X",
        "colab_type": "code",
        "colab": {
          "base_uri": "https://localhost:8080/",
          "height": 54
        },
        "outputId": "c3e4f320-5396-4714-b4b6-b308afd230af"
      },
      "source": [
        "labels = []\n",
        "personN=1\n",
        "for i in range(1,401):\n",
        "\n",
        "    person= str(personN)\n",
        "    labels.append(person)\n",
        "    \n",
        "    z=i%10\n",
        "    if z<1:\n",
        "        personN = personN +1\n",
        "\n",
        "\n",
        "data = pd.DataFrame(data=d)\n",
        "data['labels'] = labels\n",
        "print(labels)"
      ],
      "execution_count": 57,
      "outputs": [
        {
          "output_type": "stream",
          "text": [
            "['1', '1', '1', '1', '1', '1', '1', '1', '1', '1', '2', '2', '2', '2', '2', '2', '2', '2', '2', '2', '3', '3', '3', '3', '3', '3', '3', '3', '3', '3', '4', '4', '4', '4', '4', '4', '4', '4', '4', '4', '5', '5', '5', '5', '5', '5', '5', '5', '5', '5', '6', '6', '6', '6', '6', '6', '6', '6', '6', '6', '7', '7', '7', '7', '7', '7', '7', '7', '7', '7', '8', '8', '8', '8', '8', '8', '8', '8', '8', '8', '9', '9', '9', '9', '9', '9', '9', '9', '9', '9', '10', '10', '10', '10', '10', '10', '10', '10', '10', '10', '11', '11', '11', '11', '11', '11', '11', '11', '11', '11', '12', '12', '12', '12', '12', '12', '12', '12', '12', '12', '13', '13', '13', '13', '13', '13', '13', '13', '13', '13', '14', '14', '14', '14', '14', '14', '14', '14', '14', '14', '15', '15', '15', '15', '15', '15', '15', '15', '15', '15', '16', '16', '16', '16', '16', '16', '16', '16', '16', '16', '17', '17', '17', '17', '17', '17', '17', '17', '17', '17', '18', '18', '18', '18', '18', '18', '18', '18', '18', '18', '19', '19', '19', '19', '19', '19', '19', '19', '19', '19', '20', '20', '20', '20', '20', '20', '20', '20', '20', '20', '21', '21', '21', '21', '21', '21', '21', '21', '21', '21', '22', '22', '22', '22', '22', '22', '22', '22', '22', '22', '23', '23', '23', '23', '23', '23', '23', '23', '23', '23', '24', '24', '24', '24', '24', '24', '24', '24', '24', '24', '25', '25', '25', '25', '25', '25', '25', '25', '25', '25', '26', '26', '26', '26', '26', '26', '26', '26', '26', '26', '27', '27', '27', '27', '27', '27', '27', '27', '27', '27', '28', '28', '28', '28', '28', '28', '28', '28', '28', '28', '29', '29', '29', '29', '29', '29', '29', '29', '29', '29', '30', '30', '30', '30', '30', '30', '30', '30', '30', '30', '31', '31', '31', '31', '31', '31', '31', '31', '31', '31', '32', '32', '32', '32', '32', '32', '32', '32', '32', '32', '33', '33', '33', '33', '33', '33', '33', '33', '33', '33', '34', '34', '34', '34', '34', '34', '34', '34', '34', '34', '35', '35', '35', '35', '35', '35', '35', '35', '35', '35', '36', '36', '36', '36', '36', '36', '36', '36', '36', '36', '37', '37', '37', '37', '37', '37', '37', '37', '37', '37', '38', '38', '38', '38', '38', '38', '38', '38', '38', '38', '39', '39', '39', '39', '39', '39', '39', '39', '39', '39', '40', '40', '40', '40', '40', '40', '40', '40', '40', '40']\n"
          ],
          "name": "stdout"
        }
      ]
    },
    {
      "cell_type": "markdown",
      "metadata": {
        "id": "DGUFPpMH-W4e",
        "colab_type": "text"
      },
      "source": [
        ""
      ]
    },
    {
      "cell_type": "markdown",
      "metadata": {
        "id": "mlWTK1Wx-W4f",
        "colab_type": "text"
      },
      "source": [
        "50% - %50 Splitting"
      ]
    },
    {
      "cell_type": "code",
      "metadata": {
        "id": "ISalgi6H-W4h",
        "colab_type": "code",
        "colab": {}
      },
      "source": [
        "X = data.drop('labels',axis = 1)\n",
        "\n",
        "i_train=0\n",
        "i_test=0\n",
        "train_split_value = int(d.shape[0]*(5/10))\n",
        "test_split_value = d.shape[0] - train_split_value\n",
        "    \n",
        "X_train = np.zeros((train_split_value,10304))\n",
        "y_train = np.zeros((train_split_value,1)) \n",
        "    \n",
        "X_test = np.zeros((test_split_value,10304))\n",
        "y_test = np.zeros((test_split_value,1))\n",
        "\n",
        "for i in range(400):\n",
        "    if i%2==0:\n",
        "        X_test[i_test,:] = X.iloc[i]\n",
        "        y_test[i_test] = labels[i]\n",
        "        i_test+=1\n",
        "        #odd\n",
        "    \n",
        "    else:\n",
        "        X_train[i_train,:] = X.iloc[i]\n",
        "        y_train[i_train] = labels[i]\n",
        "        i_train+=1\n",
        "        \n",
        "\n",
        "train_data = pd.DataFrame(data = X_train)\n",
        "train_data['labels'] = y_train\n",
        "\n",
        "test_data = pd.DataFrame(data = X_test)\n",
        "test_data['labels'] = y_test\n",
        "\n"
      ],
      "execution_count": 0,
      "outputs": []
    },
    {
      "cell_type": "markdown",
      "metadata": {
        "id": "Lwj4p3KS-W4n",
        "colab_type": "text"
      },
      "source": [
        "70% - 30% Splitting"
      ]
    },
    {
      "cell_type": "code",
      "metadata": {
        "id": "4LN9D25Z-W4p",
        "colab_type": "code",
        "colab": {
          "base_uri": "https://localhost:8080/",
          "height": 52
        },
        "outputId": "151be83e-cd21-4e86-8758-504d5b528d8e"
      },
      "source": [
        "#splitting the data\n",
        "X = data.drop('labels',axis = 1)\n",
        "\n",
        "i_train=0\n",
        "i_test=0\n",
        "train_split_value = int(d.shape[0]*(7/10))\n",
        "test_split_value = d.shape[0] - train_split_value\n",
        "    \n",
        "X_train = np.zeros((train_split_value,10304))\n",
        "y_train = np.zeros((train_split_value,1)) \n",
        "    \n",
        "X_test = np.zeros((test_split_value,10304))\n",
        "y_test = np.zeros((test_split_value,1))\n",
        "\n",
        "counter = 0 \n",
        "for i in range(400):\n",
        "    if i % 3 == 0 and i != 0:\n",
        "        if counter < 3*(i/10): \n",
        "            X_test[i_test,:] = X.iloc[i]\n",
        "            y_test[i_test] = labels[i]\n",
        "            i_test+=1\n",
        "            counter +=1\n",
        "        \n",
        "    else:\n",
        "        X_train[i_train,:] = X.iloc[i]\n",
        "        y_train[i_train] = labels[i]\n",
        "        i_train+=1\n",
        "        \n",
        "train_data = pd.DataFrame(data = X_train)\n",
        "train_data['labels'] = y_train\n",
        "\n",
        "test_data = pd.DataFrame(data = X_test)\n",
        "test_data['labels'] = y_test\n",
        "\n",
        "print(len(labels))\n",
        "print('test ',test_data.shape,'train: ',train_data.shape)"
      ],
      "execution_count": 62,
      "outputs": [
        {
          "output_type": "stream",
          "text": [
            "400\n",
            "test  (120, 10305) train:  (280, 10305)\n"
          ],
          "name": "stdout"
        }
      ]
    },
    {
      "cell_type": "code",
      "metadata": {
        "id": "k3B3vbuKMkfM",
        "colab_type": "code",
        "colab": {}
      },
      "source": [
        "test_data.head(30)"
      ],
      "execution_count": 0,
      "outputs": []
    },
    {
      "cell_type": "markdown",
      "metadata": {
        "id": "FKtYkjFU-W4w",
        "colab_type": "text"
      },
      "source": [
        "# LDA Implementation"
      ]
    },
    {
      "cell_type": "code",
      "metadata": {
        "id": "ahcx2NXeBOc4",
        "colab_type": "code",
        "colab": {
          "base_uri": "https://localhost:8080/",
          "height": 34
        },
        "outputId": "63b8c8be-10f3-4b12-c293-bd2bdcd61074"
      },
      "source": [
        "data = train_data\n",
        "\n",
        "mu_all = [np.mean(data[col]) for col in data.columns[:-1]]\n",
        "from numpy import linalg as LA \n",
        "labels = data.labels.unique()\n",
        "mu= []  \n",
        "l =0\n",
        "#means\n",
        "for i in range(len(labels)):\n",
        "    means=[]\n",
        "    for col in data.columns[:-1]:\n",
        "#         print(np.mean(data[data['labels'] == labels[i]][col]))\n",
        "        means.append(np.mean(data[data['labels'] == labels[i]][col]))\n",
        "    mu.append(means)\n",
        "# print()\n",
        "del(mu[40])\n",
        "print('mus',len(mu),len(mu[0]))"
      ],
      "execution_count": 39,
      "outputs": [
        {
          "output_type": "stream",
          "text": [
            "mus 41 10304\n"
          ],
          "name": "stdout"
        }
      ]
    },
    {
      "cell_type": "code",
      "metadata": {
        "id": "H_wEqgX8BTbJ",
        "colab_type": "code",
        "colab": {
          "base_uri": "https://localhost:8080/",
          "height": 34
        },
        "outputId": "13d84b16-9a81-4991-8b90-86e2d6e6b0f0"
      },
      "source": [
        "\n",
        "# b \n",
        "i =0\n",
        "b = np.zeros((10304,10304))\n",
        "\n",
        "for i in range(40):\n",
        "    mat_diff = np.reshape(np.subtract(mu[i],mu_all),(10304,1))\n",
        "    b = np.add(b,7*np.matmul(mat_diff,np.transpose(mat_diff)))\n",
        "    #if 50-50\n",
        "#     b = np.add(b,5*np.matmul(mat_diff,np.transpose(mat_diff)))\n",
        "print('shape of b',b.shape)\n",
        "# print(np.transpose(matt_diff).shape)"
      ],
      "execution_count": 44,
      "outputs": [
        {
          "output_type": "stream",
          "text": [
            "shape of b (10304, 10304)\n"
          ],
          "name": "stdout"
        }
      ]
    },
    {
      "cell_type": "code",
      "metadata": {
        "id": "Gwo-5hFKBXcr",
        "colab_type": "code",
        "colab": {
          "base_uri": "https://localhost:8080/",
          "height": 344
        },
        "outputId": "96415683-c2e9-4ab3-9bdf-805deee27963"
      },
      "source": [
        "#z[i]\n",
        "z = []\n",
        "for i in range(40):\n",
        "#     print(labels[i])\n",
        "    d = data[data['labels'] == labels[i]]\n",
        "    d = d.drop('labels',axis=1)\n",
        "    \n",
        "    class_mean = np.reshape(mu[i],(10304,1))\n",
        "    \n",
        "    mean_by_ones_transpose =np.matmul(np.ones((7,1)),np.transpose(class_mean))\n",
        "    print(class_mean.shape,np.transpose(class_mean).shape,np.ones((7,1)).shape,mean_by_ones_transpose.shape)\n",
        "    \n",
        "    #if 50-50\n",
        "#     mean_by_ones_transpose =np.matmul(np.ones((5,1)),np.transpose(class_mean))\n",
        "    \n",
        "    z.append(np.subtract(d,mean_by_ones_transpose))"
      ],
      "execution_count": 52,
      "outputs": [
        {
          "output_type": "stream",
          "text": [
            "1.0\n",
            "(10304, 1) (1, 10304) (7, 1) (7, 10304)\n",
            "2.0\n",
            "(10304, 1) (1, 10304) (7, 1) (7, 10304)\n",
            "3.0\n",
            "(10304, 1) (1, 10304) (7, 1) (7, 10304)\n",
            "4.0\n",
            "(10304, 1) (1, 10304) (7, 1) (7, 10304)\n"
          ],
          "name": "stdout"
        },
        {
          "output_type": "error",
          "ename": "ValueError",
          "evalue": "ignored",
          "traceback": [
            "\u001b[0;31m---------------------------------------------------------------------------\u001b[0m",
            "\u001b[0;31mValueError\u001b[0m                                Traceback (most recent call last)",
            "\u001b[0;32m<ipython-input-52-bc2348d8d001>\u001b[0m in \u001b[0;36m<module>\u001b[0;34m()\u001b[0m\n\u001b[1;32m     11\u001b[0m     \u001b[0;31m#if 50-50\u001b[0m\u001b[0;34m\u001b[0m\u001b[0;34m\u001b[0m\u001b[0;34m\u001b[0m\u001b[0m\n\u001b[1;32m     12\u001b[0m \u001b[0;31m#     mean_by_ones_transpose =np.matmul(np.ones((5,1)),np.transpose(class_mean))\u001b[0m\u001b[0;34m\u001b[0m\u001b[0;34m\u001b[0m\u001b[0;34m\u001b[0m\u001b[0m\n\u001b[0;32m---> 13\u001b[0;31m     \u001b[0mz\u001b[0m\u001b[0;34m.\u001b[0m\u001b[0mappend\u001b[0m\u001b[0;34m(\u001b[0m\u001b[0mnp\u001b[0m\u001b[0;34m.\u001b[0m\u001b[0msubtract\u001b[0m\u001b[0;34m(\u001b[0m\u001b[0md\u001b[0m\u001b[0;34m,\u001b[0m\u001b[0mmean_by_ones_transpose\u001b[0m\u001b[0;34m)\u001b[0m\u001b[0;34m)\u001b[0m\u001b[0;34m\u001b[0m\u001b[0;34m\u001b[0m\u001b[0m\n\u001b[0m",
            "\u001b[0;31mValueError\u001b[0m: operands could not be broadcast together with shapes (6,10304) (7,10304) "
          ]
        }
      ]
    },
    {
      "cell_type": "code",
      "metadata": {
        "id": "kizgBWGmBbTk",
        "colab_type": "code",
        "colab": {}
      },
      "source": [
        "\n",
        "#s[i] and S\n",
        "S = np.zeros((10304,10304))\n",
        "for i in range(40):\n",
        "    mat = np.array(z[i])\n",
        "    output = np.matmul(np.transpose(mat),mat)\n",
        "    S = np.add(S,output)\n",
        "print('shape of S',S.shape)"
      ],
      "execution_count": 0,
      "outputs": []
    },
    {
      "cell_type": "code",
      "metadata": {
        "id": "ntOkmSXZ-W4z",
        "colab_type": "code",
        "colab": {}
      },
      "source": [
        "#eigen values and vectors && choosing best 39 vector\n",
        "E_Values_LDA , E_Vectors_LDA  = LA.eigh(np.matmul(LA.inv(S),b))\n",
        "idx = E_Values_LDA.argsort()[::-1]##\n",
        "E_Values_Sorted = E_Values_LDA[idx]\n",
        "E_Vectors_Sorted = E_Vectors_LDA[:,idx]\n",
        "projMatrix = E_Vectors_Sorted[:,:39]  # first 39 columns \n",
        "print(projMatrix.shape)"
      ],
      "execution_count": 0,
      "outputs": []
    },
    {
      "cell_type": "code",
      "metadata": {
        "id": "jpGXOdUw-W45",
        "colab_type": "code",
        "colab": {}
      },
      "source": [
        "U_Train_LDA_projection = train_data.drop('labels',axis=1).dot(projMatrix)\n",
        "U_Test_LDA_projection = test_data.drop('labels',axis=1).dot(projMatrix)\n",
        "\n",
        "print('U_Train_LDA_projection',U_Train_LDA_projection.shape)\n",
        "print('U_Test_LDA_projection',U_Test_LDA_projection.shape)"
      ],
      "execution_count": 0,
      "outputs": []
    },
    {
      "cell_type": "code",
      "metadata": {
        "id": "Px0iSP_1-W4-",
        "colab_type": "code",
        "colab": {}
      },
      "source": [
        "def Knn(train_data,train_label,test_data,test_label,alpha,best_n):\n",
        "      \n",
        "    score = []\n",
        "    for i,neighbour in zip(range(len(best_n )),best_n ):\n",
        "        KnnTest = KNeighborsClassifier(n_neighbors = neighbour, weights = 'distance') \n",
        "        KnnTest.fit(train_data.T, train_label) \n",
        "        pred = KnnTest.predict(test_data.T)\n",
        "        score.append(accuracy_score(pred,test_label)) \n",
        "        print(score)\n",
        "        \n",
        "    plt.plot(score,best_n)\n",
        "    plt.xlabel('Accuracy')\n",
        "    plt.ylabel('KNN')\n",
        "    plt.show()\n",
        "    \n",
        "    \n",
        "    plt.plot(alpha,score)\n",
        "    plt.xlabel('Accuracy')\n",
        "    plt.ylabel('ALpha')\n",
        "    plt.show()\n"
      ],
      "execution_count": 0,
      "outputs": []
    },
    {
      "cell_type": "code",
      "metadata": {
        "id": "U1HYsTo--W5E",
        "colab_type": "code",
        "colab": {}
      },
      "source": [
        "def Knn(train_data,train_label,test_data,test_label):\n",
        "    best_n  = [1,3,5,7]\n",
        "    score = []\n",
        "    \n",
        "    train_label = np.reshape(np.array(train_label),(200,1))\n",
        "    test_label = np.reshape(np.array(test_label),(200,1))\n",
        "    print(train_data.shape)\n",
        "    print(train_label.shape)\n",
        "    print(test_data.shape)\n",
        "    print(test_label.shape)\n",
        "    \n",
        "    for i,neighbour in zip(range(len(best_n )),best_n ):\n",
        "        KnnTest = KNeighborsClassifier(n_neighbors = neighbour, weights = 'distance') \n",
        "        KnnTest.fit(train_data, train_label) \n",
        "        pred = KnnTest.predict(test_data)\n",
        "        score.append(accuracy_score(pred,test_label)) \n",
        "      \n",
        "    plt.plot(score,best_n)\n",
        "    plt.xlabel('Accuracy')\n",
        "    plt.ylabel('KNN')\n",
        "    plt.show()\n",
        "\n",
        "\n",
        "\n",
        "Knn(U_Train_LDA_projection,train_data['labels'],U_Test_LDA_projection,test_data['labels'])"
      ],
      "execution_count": 0,
      "outputs": []
    },
    {
      "cell_type": "code",
      "metadata": {
        "id": "JDHtXGk4-W5K",
        "colab_type": "code",
        "colab": {}
      },
      "source": [
        ""
      ],
      "execution_count": 0,
      "outputs": []
    },
    {
      "cell_type": "code",
      "metadata": {
        "id": "LdpX_EtU-W5P",
        "colab_type": "code",
        "colab": {}
      },
      "source": [
        ""
      ],
      "execution_count": 0,
      "outputs": []
    }
  ]
}