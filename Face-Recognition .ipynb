{
 "cells": [
  {
   "cell_type": "markdown",
   "metadata": {},
   "source": [
    "# Important Libraries For The Assignment\n"
   ]
  },
  {
   "cell_type": "code",
   "execution_count": 7,
   "metadata": {},
   "outputs": [],
   "source": [
    "import cv2\n",
    "import os\n",
    "import glob\n",
    "import numpy as np\n",
    "import pandas as pd\n",
    "from sklearn.neighbors import KNeighborsClassifier\n",
    "from sklearn.metrics import accuracy_score\n",
    "import matplotlib.pyplot as plt"
   ]
  },
  {
   "cell_type": "markdown",
   "metadata": {},
   "source": [
    "# A.The dataset has 10 images per 40 subjects. Every image is a grayscale image of  size 92x112.(10 Points) \n",
    "Download the dataset and understand the format \n"
   ]
  },
  {
   "cell_type": "code",
   "execution_count": 8,
   "metadata": {},
   "outputs": [
    {
     "name": "stdout",
     "output_type": "stream",
     "text": [
      "Shape od D matrix : (400, 10304)\n"
     ]
    }
   ],
   "source": [
    "img_dir = \"./ATT\" # Enter Directory of all images \n",
    "data_path = os.path.join(img_dir,'*g')\n",
    "files = glob.glob(data_path)\n",
    "data = []\n",
    "i=0\n",
    "for f1 in files:\n",
    "    i=i+1\n",
    "    img = cv2.imread(f1)\n",
    "    dim=(92,112)\n",
    "    resized = cv2.resize(img, dim, interpolation = cv2.INTER_AREA)\n",
    "    gray = cv2.cvtColor(resized, cv2.COLOR_BGR2GRAY)\n",
    "    data.append(gray)\n",
    "    mydata = np.array(data)\n",
    "d=np.reshape(mydata, (400, 10304))\n",
    "print(\"Shape od D matrix :\",d.shape)"
   ]
  },
  {
   "cell_type": "markdown",
   "metadata": {},
   "source": [
    "# Preparing the Labels Of the Data Stack the 400 vector into a single Data Matrix D and generate the label vector y.The labels are integers from 1:40 corresponding to the subject id."
   ]
  },
  {
   "cell_type": "code",
   "execution_count": 13,
   "metadata": {},
   "outputs": [
    {
     "name": "stdout",
     "output_type": "stream",
     "text": [
      "The Size of The Dataset : (400, 10304)\n"
     ]
    }
   ],
   "source": [
    "nameOflabels = []\n",
    "label=1\n",
    "for i in range(1,401):\n",
    "\n",
    "    labelX= str(label)\n",
    "    nameOflabels.append(labelX)\n",
    "    z=i%40\n",
    "    if z<1:\n",
    "         label = label +1       \n",
    "df = pd.DataFrame(d, index=nameOflabels)\n",
    "print(\"The Size of The Dataset :\",df.shape)"
   ]
  },
  {
   "cell_type": "code",
   "execution_count": 14,
   "metadata": {},
   "outputs": [
    {
     "name": "stdout",
     "output_type": "stream",
     "text": [
      "Name Of labels\n",
      " ['1', '1', '1', '1', '1', '1', '1', '1', '1', '1', '1', '1', '1', '1', '1', '1', '1', '1', '1', '1', '1', '1', '1', '1', '1', '1', '1', '1', '1', '1', '1', '1', '1', '1', '1', '1', '1', '1', '1', '1', '2', '2', '2', '2', '2', '2', '2', '2', '2', '2', '2', '2', '2', '2', '2', '2', '2', '2', '2', '2', '2', '2', '2', '2', '2', '2', '2', '2', '2', '2', '2', '2', '2', '2', '2', '2', '2', '2', '2', '2', '3', '3', '3', '3', '3', '3', '3', '3', '3', '3', '3', '3', '3', '3', '3', '3', '3', '3', '3', '3', '3', '3', '3', '3', '3', '3', '3', '3', '3', '3', '3', '3', '3', '3', '3', '3', '3', '3', '3', '3', '4', '4', '4', '4', '4', '4', '4', '4', '4', '4', '4', '4', '4', '4', '4', '4', '4', '4', '4', '4', '4', '4', '4', '4', '4', '4', '4', '4', '4', '4', '4', '4', '4', '4', '4', '4', '4', '4', '4', '4', '5', '5', '5', '5', '5', '5', '5', '5', '5', '5', '5', '5', '5', '5', '5', '5', '5', '5', '5', '5', '5', '5', '5', '5', '5', '5', '5', '5', '5', '5', '5', '5', '5', '5', '5', '5', '5', '5', '5', '5', '6', '6', '6', '6', '6', '6', '6', '6', '6', '6', '6', '6', '6', '6', '6', '6', '6', '6', '6', '6', '6', '6', '6', '6', '6', '6', '6', '6', '6', '6', '6', '6', '6', '6', '6', '6', '6', '6', '6', '6', '7', '7', '7', '7', '7', '7', '7', '7', '7', '7', '7', '7', '7', '7', '7', '7', '7', '7', '7', '7', '7', '7', '7', '7', '7', '7', '7', '7', '7', '7', '7', '7', '7', '7', '7', '7', '7', '7', '7', '7', '8', '8', '8', '8', '8', '8', '8', '8', '8', '8', '8', '8', '8', '8', '8', '8', '8', '8', '8', '8', '8', '8', '8', '8', '8', '8', '8', '8', '8', '8', '8', '8', '8', '8', '8', '8', '8', '8', '8', '8', '9', '9', '9', '9', '9', '9', '9', '9', '9', '9', '9', '9', '9', '9', '9', '9', '9', '9', '9', '9', '9', '9', '9', '9', '9', '9', '9', '9', '9', '9', '9', '9', '9', '9', '9', '9', '9', '9', '9', '9', '10', '10', '10', '10', '10', '10', '10', '10', '10', '10', '10', '10', '10', '10', '10', '10', '10', '10', '10', '10', '10', '10', '10', '10', '10', '10', '10', '10', '10', '10', '10', '10', '10', '10', '10', '10', '10', '10', '10', '10']\n"
     ]
    }
   ],
   "source": [
    "print(\"Name Of labels\\n\",nameOflabels)"
   ]
  },
  {
   "cell_type": "code",
   "execution_count": 17,
   "metadata": {},
   "outputs": [
    {
     "data": {
      "text/plain": [
       "400"
      ]
     },
     "execution_count": 17,
     "metadata": {},
     "output_type": "execute_result"
    }
   ],
   "source": [
    "len(nameOflabels)\n"
   ]
  },
  {
   "cell_type": "markdown",
   "metadata": {},
   "source": [
    "### From the Data Matrix D400x10304 keep the odd rows for training and the even rows for testing. This will give you 5 instances per person for training and 5 instances per person for testing"
   ]
  },
  {
   "cell_type": "code",
   "execution_count": 18,
   "metadata": {},
   "outputs": [],
   "source": [
    "i_train=0\n",
    "i_test=0\n",
    "train_split_value = int(d.shape[0]*(5/10))\n",
    "test_split_value = d.shape[0] - train_split_value\n",
    "    \n",
    "train_data = np.zeros((train_split_value,10304))\n",
    "train_labels = np.zeros((train_split_value,1)) \n",
    "test_data = np.zeros((test_split_value,10304))\n",
    "test_labels = np.zeros((test_split_value,1))\n",
    "for i in range(d.shape[0]):\n",
    "        #even\n",
    "    if i%2==0:\n",
    "       test_data[i_test,:] = d[i]\n",
    "       test_labels[i_test] = nameOflabels[i]\n",
    "       i_test+=1\n",
    "        #odd\n",
    "    \n",
    "    else:\n",
    "      train_data[i_train,:] = d[i]\n",
    "      train_labels[i_train] = nameOflabels[i]\n",
    "      i_train+=1"
   ]
  },
  {
   "cell_type": "code",
   "execution_count": null,
   "metadata": {},
   "outputs": [],
   "source": [
    "from numpy import linalg as LA \n",
    "      \n",
    "mean_train_data = np.mean(train_data, axis=0).reshape(10304,1)\n",
    "print\n",
    "mean_test_data = np.mean(test_data, axis=0).reshape(10304,1)\n",
    "#Z=data -one.mean\n",
    "z_Train = train_data - np.ones((200,1)).dot(mean_train_data.T)\n",
    "z_Test = test_data - np.ones((200,1)).dot(mean_test_data.T)\n",
    "\n",
    "#covariance matrix\n",
    "covarianceMatrix_Training = (1/len(z_Train))*np.matmul(np.transpose(z_Train),z_Train)\n",
    "covarianceMatrix_Testing = (1/len(z_Test))*np.matmul(np.transpose(z_Test),z_Test)\n",
    "\n",
    "eigenValues_train_data,eigenVectors_train_data = LA.eigh(covarianceMatrix_Training)\n",
    "eigenValues_test_data,eigenVectors_test_data = LA.eigh(covarianceMatrix_Testing)  \n",
    "#step Sorting using the train data \n",
    "idx = eigenValues_train_data.argsort()[::-1]   \n",
    "eigenValuesSorted = eigenValues_train_data[idx]\n",
    "eigenVectorsSorted = eigenVectors_train_data[:,idx]"
   ]
  },
  {
   "cell_type": "code",
   "execution_count": null,
   "metadata": {},
   "outputs": [],
   "source": [
    "def findAlpha (a,alpha,EigenValuesSorted):\n",
    "    for i in range(a,10304):\n",
    "\n",
    "        B = float(sum(EigenValuesSorted))\n",
    "        T = float(sum(EigenValuesSorted[:i]))\n",
    "        if(T/B >= alpha):\n",
    "            return i"
   ]
  },
  {
   "cell_type": "code",
   "execution_count": null,
   "metadata": {},
   "outputs": [],
   "source": []
  },
  {
   "cell_type": "code",
   "execution_count": null,
   "metadata": {},
   "outputs": [],
   "source": [
    "chosen_Alpha= [0.8,0.85,0.9,0.95]\n",
    "for a in chosen_Alpha:\n",
    "    W= findAlpha(0,a,eigenValuesSorted)\n",
    "    NewW = eigenVectorsSorted[: , 0 : W + 1]\n",
    "    wTrain = np.dot(NewW.T , z_Train.T)\n",
    "    wTest = np.dot(NewW.T , z_Test.T)\n",
    "    print(\"For Alpha: \" + str(a))\n",
    "    \n",
    "    \n",
    "Knn(wTrain,train_labels,wTest,test_labels,chosen_Alpha)   "
   ]
  }
 ],
 "metadata": {
  "kernelspec": {
   "display_name": "Python 3",
   "language": "python",
   "name": "python3"
  },
  "language_info": {
   "codemirror_mode": {
    "name": "ipython",
    "version": 3
   },
   "file_extension": ".py",
   "mimetype": "text/x-python",
   "name": "python",
   "nbconvert_exporter": "python",
   "pygments_lexer": "ipython3",
   "version": "3.7.3"
  }
 },
 "nbformat": 4,
 "nbformat_minor": 4
}
